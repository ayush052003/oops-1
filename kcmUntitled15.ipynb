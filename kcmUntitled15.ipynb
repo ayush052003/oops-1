{
 "cells": [
  {
   "cell_type": "code",
   "execution_count": 1,
   "id": "9aaa1eb0-a3af-4e39-869b-110d62a7d828",
   "metadata": {},
   "outputs": [
    {
     "data": {
      "text/plain": [
       "'Q1. What is Abstraction in OOps? Explain with an example.'"
      ]
     },
     "execution_count": 1,
     "metadata": {},
     "output_type": "execute_result"
    }
   ],
   "source": [
    "'''Q1. What is Abstraction in OOps? Explain with an example.'''"
   ]
  },
  {
   "cell_type": "code",
   "execution_count": 2,
   "id": "01645a84-53d6-4f38-94f7-51629015e848",
   "metadata": {},
   "outputs": [],
   "source": [
    "# Abstraction is the process of hiding the internal details of an application from the outer world. Abstraction is used to describe things\n",
    "# in simple terms. It’s used to create a boundary between the application and the client programs.\n",
    "\n",
    "# Example-- people do not think of a car as a set of thousands of individual parts. Instead they see it as a well-defined object with its\n",
    "# own unique behavior. This abstraction allows people to use a car to drive without knowing the complexity of the parts that form the car."
   ]
  },
  {
   "cell_type": "code",
   "execution_count": 3,
   "id": "9da54d7c-e770-49da-b758-03c5f279ed66",
   "metadata": {},
   "outputs": [
    {
     "data": {
      "text/plain": [
       "'Q2. Differentiate between Abstraction and Encapsulation. Explain with an example.'"
      ]
     },
     "execution_count": 3,
     "metadata": {},
     "output_type": "execute_result"
    }
   ],
   "source": [
    "'''Q2. Differentiate between Abstraction and Encapsulation. Explain with an example.'''"
   ]
  },
  {
   "cell_type": "code",
   "execution_count": 4,
   "id": "0d08e0c4-48a6-4b68-b1c3-96fabb94bd98",
   "metadata": {},
   "outputs": [],
   "source": [
    "# Encapsulation is a fundamental concept in object-oriented programming (OOP) that refers to the bundling of data and methods that operate\n",
    "# on that data within a single unit, which is called a class in python.\n",
    "\n",
    "# Data Abstraction is the property by virtue of which only the essential details are displayed to the user. The trivial or the non-essential\n",
    "# units are not displayed to the user. Ex: A car is viewed as a car rather than its individual components. Data Abstraction may also be defined\n",
    "# as the process of identifying only the required characteristics of an object ignoring the irrelevant details. "
   ]
  },
  {
   "cell_type": "code",
   "execution_count": 5,
   "id": "4e829b18-f5ce-4c6d-8138-3e4b3c18366c",
   "metadata": {},
   "outputs": [
    {
     "data": {
      "text/plain": [
       "'Q3. What is abc module in python? Why is it used?'"
      ]
     },
     "execution_count": 5,
     "metadata": {},
     "output_type": "execute_result"
    }
   ],
   "source": [
    "'''Q3. What is abc module in python? Why is it used?'''"
   ]
  },
  {
   "cell_type": "code",
   "execution_count": 6,
   "id": "c2e7177a-41fb-4ced-a52f-b9375c7ea591",
   "metadata": {},
   "outputs": [],
   "source": [
    "# The main goal of the abstract base class is to provide a standardized way to test whether an object adheres to a given specification.\n",
    "# It can also prevent any attempt to instantiate a subclass that doesn’t override a particular method in the superclass. \n",
    "\n",
    "# It is used to understand the need to declare a virtual subclass, we need to consider the example of a list-like object where you don’t want to put\n",
    "# a restriction of only considering list or tuple."
   ]
  },
  {
   "cell_type": "code",
   "execution_count": 7,
   "id": "27f11ec6-ba07-4fb5-8a90-930d07f20d67",
   "metadata": {},
   "outputs": [
    {
     "data": {
      "text/plain": [
       "'Q4. How can we achieve data abstraction?'"
      ]
     },
     "execution_count": 7,
     "metadata": {},
     "output_type": "execute_result"
    }
   ],
   "source": [
    "'''Q4. How can we achieve data abstraction?'''"
   ]
  },
  {
   "cell_type": "code",
   "execution_count": 8,
   "id": "cfdab9ac-fbe6-41a6-bff7-751d904d5ded",
   "metadata": {},
   "outputs": [],
   "source": [
    "# The main purpose of data abstraction is to achieve data independence in order to save the time and cost required when the database is\n",
    "# modified or altered. "
   ]
  },
  {
   "cell_type": "code",
   "execution_count": null,
   "id": "66c4e723-9388-4203-a127-36d99b3e7df0",
   "metadata": {},
   "outputs": [],
   "source": [
    "'''Q5. Can we create an instance of an abstract class? Explain your answer.'''"
   ]
  },
  {
   "cell_type": "code",
   "execution_count": null,
   "id": "2b329ad7-4d6c-4bc5-b516-d37657e027ef",
   "metadata": {},
   "outputs": [],
   "source": [
    "# We can not create an instance of an abstract class.\n",
    "# We can create an instance of a class that extents your abstract class.\n",
    "\n",
    "# The whole point of an abstract class is that it's abstract -- you've defined an interface but not an implementation.\n",
    "# Without an implementation, instantiating the class wouldn't produce a meaningful or useful result. If it does/would make sense to \n",
    "# instantiate objects of that class, then you simply don't want to use an abstract class in the first place."
   ]
  }
 ],
 "metadata": {
  "kernelspec": {
   "display_name": "Python 3 (ipykernel)",
   "language": "python",
   "name": "python3"
  },
  "language_info": {
   "codemirror_mode": {
    "name": "ipython",
    "version": 3
   },
   "file_extension": ".py",
   "mimetype": "text/x-python",
   "name": "python",
   "nbconvert_exporter": "python",
   "pygments_lexer": "ipython3",
   "version": "3.10.8"
  }
 },
 "nbformat": 4,
 "nbformat_minor": 5
}
